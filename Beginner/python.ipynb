{
 "cells": [
  {
   "cell_type": "markdown",
   "metadata": {},
   "source": [
    "# Python Basic \n",
    "#### What is python?\n",
    "##### Python is a popular programming language. It was created by Guido van Rossum\n",
    "#### it is used for : <br>  * web development (server-side)<br>  * software development<br>  * mathematics<br>  * system scripting"
   ]
  },
  {
   "cell_type": "markdown",
   "metadata": {},
   "source": [
    "#### Basic Syntax"
   ]
  },
  {
   "cell_type": "code",
   "execution_count": 1,
   "metadata": {},
   "outputs": [
    {
     "name": "stdout",
     "output_type": "stream",
     "text": [
      "hello\n"
     ]
    }
   ],
   "source": [
    "print(\"Hello, world!\")"
   ]
  },
  {
   "cell_type": "markdown",
   "metadata": {},
   "source": [
    "#### Note\n",
    "python uses new lines to compleate a command not (;) semicolons or parentheses<br>Python relies on indentation. <br> python use whitespace, to define scope;such as the scope of loops, functio and classes.\n"
   ]
  },
  {
   "cell_type": "code",
   "execution_count": 1,
   "metadata": {},
   "outputs": [
    {
     "name": "stdout",
     "output_type": "stream",
     "text": [
      "3.12.5 (tags/v3.12.5:ff3bc82, Aug  6 2024, 20:45:27) [MSC v.1940 64 bit (AMD64)]\n"
     ]
    }
   ],
   "source": [
    "# Pyton version\n",
    "\n",
    "import sys\n",
    "\n",
    "print(sys.version)\n"
   ]
  },
  {
   "cell_type": "markdown",
   "metadata": {},
   "source": [
    "### ✅ 1. Variables in Python\n",
    "Variables are used to store data. In Python, you don’t need to declare a data type explicitly—Python infers it automatically."
   ]
  },
  {
   "cell_type": "code",
   "execution_count": 5,
   "metadata": {},
   "outputs": [
    {
     "name": "stdout",
     "output_type": "stream",
     "text": [
      "<class 'str'>\n",
      "<class 'int'>\n",
      "<class 'float'>\n",
      "<class 'bool'>\n"
     ]
    }
   ],
   "source": [
    "#syntax:\n",
    "\n",
    "name = \"Alice\"      # string\n",
    "age = 25            # Integer\n",
    "price = 99.60       # Float\n",
    "is_active = True    # Boolean\n",
    "\n",
    "# type()  Use to find the type of variable\n",
    "print(type(name)) \n",
    "print(type(age))\n",
    "print(type(price))\n",
    "print(type(is_active))"
   ]
  },
  {
   "cell_type": "markdown",
   "metadata": {},
   "source": [
    "#### Rules for Variable Names:\n",
    "* Must start with a letter or underscore `(_)`\n",
    "* Cannot start with a number\n",
    "* Case-sensitive (`Age` and `age` are different)\n",
    "* Use descriptive names (`user_name`, not `x`)"
   ]
  },
  {
   "cell_type": "markdown",
   "metadata": {},
   "source": [
    "✅ 2. Python Data Types\n",
    "Python has several built-in data types:\n",
    "\n",
    "| Data Type | Example | Description |\n",
    "| --- | --- | --- |\n",
    "| int | age = 30 | Whole numbers | \n",
    "| float | price = 19.99 | Decimal numbers | \n",
    "| str | name = \"Alice\" | Text (in quotes) | \n",
    "| bool | is_active = True | Boolean values: True or False | \n",
    "| list | fruits = [\"apple\", \"banana\"] | Ordered, mutable collection | \n",
    "| tuple | coordinates = (10, 20) | Ordered, immutable collection | \n",
    "| dict | person = {\"name\": \"Bob\", \"age\": 30} | Key-value pairs (unordered) | \n",
    "| set | unique_numbers = {1, 2, 3} | Unordered, unique values collection | \n",
    "\n",
    "\n",
    "list , tuple , set and dict we will discuss in futhur lectures"
   ]
  },
  {
   "cell_type": "markdown",
   "metadata": {},
   "source": [
    "### Write a program to assign different data types to variables and print their types."
   ]
  },
  {
   "cell_type": "code",
   "execution_count": 14,
   "metadata": {},
   "outputs": [
    {
     "name": "stdout",
     "output_type": "stream",
     "text": [
      "Alice\n",
      "25\n",
      "99.6\n",
      "True\n",
      "[1, 2, 3, 4, 5, 7]\n",
      "(1, 3, 5, 7, 9)\n",
      "{'name': 'Mango', 'price': 50}\n",
      "{1, 2, 3, 4, 5}\n"
     ]
    }
   ],
   "source": [
    "name = \"Alice\"      # string\n",
    "age = 25            # Integer\n",
    "price = 99.60       # Float\n",
    "is_active = True    # Boolean\n",
    "nums = [1,2,3,4,5,7]# list\n",
    "odd = (1,3,5,7,9)   # tuple\n",
    "fruits = {\"name\":\"Mango\",\"price\":50}\n",
    "sets = {1,2,3,4,5}  # sets\n",
    "\n",
    "print(name,age,price,is_active,nums,odd,fruits,sets,sep=\"\\n\")"
   ]
  },
  {
   "cell_type": "markdown",
   "metadata": {},
   "source": []
  },
  {
   "cell_type": "code",
   "execution_count": null,
   "metadata": {},
   "outputs": [],
   "source": []
  }
 ],
 "metadata": {
  "kernelspec": {
   "display_name": "Python 3",
   "language": "python",
   "name": "python3"
  },
  "language_info": {
   "codemirror_mode": {
    "name": "ipython",
    "version": 3
   },
   "file_extension": ".py",
   "mimetype": "text/x-python",
   "name": "python",
   "nbconvert_exporter": "python",
   "pygments_lexer": "ipython3",
   "version": "3.12.5"
  }
 },
 "nbformat": 4,
 "nbformat_minor": 2
}
