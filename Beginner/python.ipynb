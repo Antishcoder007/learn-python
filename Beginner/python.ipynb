{
 "cells": [
  {
   "cell_type": "markdown",
   "metadata": {},
   "source": [
    "# Python Basic \n",
    "#### What is python?\n",
    "##### Python is a popular programming language. It was created by Guido van Rossum\n",
    "#### it is used for : <br>  * web development (server-side)<br>  * software development<br>  * mathematics<br>  * system scripting"
   ]
  },
  {
   "cell_type": "markdown",
   "metadata": {},
   "source": [
    "#### Basic Syntax"
   ]
  },
  {
   "cell_type": "code",
   "execution_count": 1,
   "metadata": {},
   "outputs": [
    {
     "name": "stdout",
     "output_type": "stream",
     "text": [
      "hello\n"
     ]
    }
   ],
   "source": [
    "print(\"Hello, world!\")"
   ]
  },
  {
   "cell_type": "markdown",
   "metadata": {},
   "source": [
    "#### Note\n",
    "python uses new lines to compleate a command not (;) semicolons or parentheses<br>Python relies on indentation. <br> python use whitespace, to define scope;such as the scope of loops, functio and classes.\n"
   ]
  },
  {
   "cell_type": "code",
   "execution_count": 1,
   "metadata": {},
   "outputs": [
    {
     "name": "stdout",
     "output_type": "stream",
     "text": [
      "3.12.5 (tags/v3.12.5:ff3bc82, Aug  6 2024, 20:45:27) [MSC v.1940 64 bit (AMD64)]\n"
     ]
    }
   ],
   "source": [
    "# Pyton version\n",
    "\n",
    "import sys\n",
    "\n",
    "print(sys.version)\n"
   ]
  },
  {
   "cell_type": "markdown",
   "metadata": {},
   "source": [
    "### ✅ 1. Variables in Python\n",
    "Variables are used to store data. In Python, you don’t need to declare a data type explicitly—Python infers it automatically."
   ]
  },
  {
   "cell_type": "code",
   "execution_count": 5,
   "metadata": {},
   "outputs": [
    {
     "name": "stdout",
     "output_type": "stream",
     "text": [
      "<class 'str'>\n",
      "<class 'int'>\n",
      "<class 'float'>\n",
      "<class 'bool'>\n"
     ]
    }
   ],
   "source": [
    "#syntax:\n",
    "\n",
    "name = \"Alice\"      # string\n",
    "age = 25            # Integer\n",
    "price = 99.60       # Float\n",
    "is_active = True    # Boolean\n",
    "\n",
    "# type()  Use to find the type of variable\n",
    "print(type(name)) \n",
    "print(type(age))\n",
    "print(type(price))\n",
    "print(type(is_active))"
   ]
  },
  {
   "cell_type": "markdown",
   "metadata": {},
   "source": [
    "#### Rules for Variable Names:\n",
    "* Must start with a letter or underscore `(_)`\n",
    "* Cannot start with a number\n",
    "* Case-sensitive (`Age` and `age` are different)\n",
    "* Use descriptive names (`user_name`, not `x`)"
   ]
  },
  {
   "cell_type": "markdown",
   "metadata": {},
   "source": [
    "✅ 2. Python Data Types\n",
    "Python has several built-in data types:\n",
    "\n",
    "| Data Type | Example | Description |\n",
    "| --- | --- | --- |\n",
    "| int | age = 30 | Whole numbers | \n",
    "| float | price = 19.99 | Decimal numbers | \n",
    "| str | name = \"Alice\" | Text (in quotes) | \n",
    "| bool | is_active = True | Boolean values: True or False | \n",
    "| list | fruits = [\"apple\", \"banana\"] | Ordered, mutable collection | \n",
    "| tuple | coordinates = (10, 20) | Ordered, immutable collection | \n",
    "| dict | person = {\"name\": \"Bob\", \"age\": 30} | Key-value pairs (unordered) | \n",
    "| set | unique_numbers = {1, 2, 3} | Unordered, unique values collection | \n",
    "\n",
    "\n",
    "list , tuple , set and dict we will discuss in futhur lectures\n",
    "\n",
    "### Note\n",
    "String variables can be declared either by using single or double quotes"
   ]
  },
  {
   "cell_type": "markdown",
   "metadata": {},
   "source": [
    "### Write a program to assign different data types to variables and print their types."
   ]
  },
  {
   "cell_type": "code",
   "execution_count": 14,
   "metadata": {},
   "outputs": [
    {
     "name": "stdout",
     "output_type": "stream",
     "text": [
      "Alice\n",
      "25\n",
      "99.6\n",
      "True\n",
      "[1, 2, 3, 4, 5, 7]\n",
      "(1, 3, 5, 7, 9)\n",
      "{'name': 'Mango', 'price': 50}\n",
      "{1, 2, 3, 4, 5}\n"
     ]
    }
   ],
   "source": [
    "name = \"Alice\"      # string\n",
    "age = 25            # Integer\n",
    "price = 99.60       # Float\n",
    "is_active = True    # Boolean\n",
    "nums = [1,2,3,4,5,7]# list\n",
    "odd = (1,3,5,7,9)   # tuple\n",
    "fruits = {\"name\":\"Mango\",\"price\":50}\n",
    "sets = {1,2,3,4,5}  # sets\n",
    "\n",
    "print(name,age,price,is_active,nums,odd,fruits,sets,sep=\"\\n\")"
   ]
  },
  {
   "cell_type": "markdown",
   "metadata": {},
   "source": [
    "### Python commenting\n",
    "Python has commenting capability for the purpose fo in-code document.<br>\n",
    "Comment start with a `#`, and Python will render the rest of the line as a comment"
   ]
  },
  {
   "cell_type": "code",
   "execution_count": 1,
   "metadata": {},
   "outputs": [
    {
     "name": "stdout",
     "output_type": "stream",
     "text": [
      "hello world!\n"
     ]
    }
   ],
   "source": [
    "# This is a comment\n",
    "print(\"hello world!\")"
   ]
  },
  {
   "cell_type": "markdown",
   "metadata": {},
   "source": [
    "Comment can be used to explain python code. <br>comment can be used to make the code more readable.<br> comments can be used to prevent execution when testing code.\n",
    "### Types of comments\n",
    "### Multiline Comments\n",
    "Pyhton does not really have a syntex for multiline comments.<br>To add a multiline comment you could insert a `#` for each line."
   ]
  },
  {
   "cell_type": "code",
   "execution_count": 2,
   "metadata": {},
   "outputs": [
    {
     "name": "stdout",
     "output_type": "stream",
     "text": [
      "Hello, World!\n"
     ]
    }
   ],
   "source": [
    "#This is a comment\n",
    "#written in\n",
    "#more than just one line\n",
    "print(\"Hello, World!\")"
   ]
  },
  {
   "cell_type": "markdown",
   "metadata": {},
   "source": [
    "or, not quite as intended, you can use multiline string.<br>\n",
    "Since Python will ignore string literals that are not assigned to a variable,<br>you can add a multiline string `(\"\"\"\"\"\")` triple quotes in your code, <br>and place comment string inside it."
   ]
  },
  {
   "cell_type": "code",
   "execution_count": 3,
   "metadata": {},
   "outputs": [
    {
     "name": "stdout",
     "output_type": "stream",
     "text": [
      "Hello, World!\n"
     ]
    }
   ],
   "source": [
    "\n",
    "\"\"\"\n",
    "This is a comment\n",
    "written in\n",
    "more than just one line\n",
    "\"\"\"\n",
    "print(\"Hello, World!\")"
   ]
  },
  {
   "cell_type": "markdown",
   "metadata": {},
   "source": [
    "## ✅ 3. Type Conversion\n",
    "#### Convert between data types using these functions:\n",
    "\n",
    "| Function | Description |\n",
    "| --- | --- |\n",
    "| int() | Convert to an integer |\n",
    "| float()\t| Convert to a float|\n",
    "| str()\t| Convert to a string|\n",
    "| bool()\t| Convert to a boolean (True/False)|\n",
    "| list(), tuple()\t| Convert to list/tuple|"
   ]
  },
  {
   "cell_type": "markdown",
   "metadata": {},
   "source": [
    "#### Type Casting\n",
    "If you want to specify the data type of a variable, this can be done with casting.\n",
    "it is nothing but it help to convert on data type to another data type "
   ]
  },
  {
   "cell_type": "code",
   "execution_count": 10,
   "metadata": {},
   "outputs": [
    {
     "name": "stdout",
     "output_type": "stream",
     "text": [
      "String converting to int  <class 'int'>\n",
      "string converting to float  <class 'float'>\n",
      "integer converting to string <class 'str'>\n",
      "False\n",
      "True\n"
     ]
    }
   ],
   "source": [
    "# Example\n",
    "# Converting between types\n",
    "num = int(\"10\")       # 10 (string to integer)\n",
    "decimal = float(\"5.5\") # 5.5 (string to float)\n",
    "text = str(100)       # '100' (integer to string)\n",
    "print(\"String converting to int \",type(num))\n",
    "print(\"string converting to float \",type(decimal))\n",
    "print(\"integer converting to string\",type(text))\n",
    "\n",
    "# Boolean conversions\n",
    "print(bool(0))       # False (0 is False)\n",
    "print(bool(1))       # True (Non-zero is True)\n"
   ]
  },
  {
   "cell_type": "markdown",
   "metadata": {},
   "source": [
    "#### Get the Type\n",
    "you can get the data type of a variable with the `type()` function."
   ]
  },
  {
   "cell_type": "code",
   "execution_count": 11,
   "metadata": {},
   "outputs": [
    {
     "name": "stdout",
     "output_type": "stream",
     "text": [
      "<class 'int'>\n",
      "<class 'str'>\n"
     ]
    }
   ],
   "source": [
    "x = 10\n",
    "y = \"Python\"\n",
    "\n",
    "print(type(x))\n",
    "print(type(y))"
   ]
  },
  {
   "cell_type": "markdown",
   "metadata": {},
   "source": [
    "### ✅ 4. Input and Output\n",
    "##### Understanding `print()` for Output\n",
    "The print() function is used to display information on the screen. It supports multiple arguments, formatting, and special characters."
   ]
  },
  {
   "cell_type": "code",
   "execution_count": 12,
   "metadata": {},
   "outputs": [
    {
     "name": "stdout",
     "output_type": "stream",
     "text": [
      "Pyton is fun!\n"
     ]
    }
   ],
   "source": [
    "# basic usage to print statements and values to the user\n",
    "print(\"Pyton is fun!\")"
   ]
  },
  {
   "cell_type": "markdown",
   "metadata": {},
   "source": [
    "📝 Printing Multiple Items <br>Use commas `(,)` to print multiple values with spaces between them."
   ]
  },
  {
   "cell_type": "code",
   "execution_count": 13,
   "metadata": {},
   "outputs": [
    {
     "name": "stdout",
     "output_type": "stream",
     "text": [
      "Name: Alice Age: 25\n"
     ]
    }
   ],
   "source": [
    "name = \"Alice\"\n",
    "age = 25\n",
    "print(\"Name:\", name, \"Age:\", age)  # Output: Name: Alice Age: 25"
   ]
  },
  {
   "cell_type": "markdown",
   "metadata": {},
   "source": [
    "##### Using the `sep` and `end` Parameters\n",
    "* `sep` controls how values are separated.\n",
    "* `end` controls how the output ends."
   ]
  },
  {
   "cell_type": "code",
   "execution_count": 14,
   "metadata": {},
   "outputs": [
    {
     "name": "stdout",
     "output_type": "stream",
     "text": [
      "Apple - Banana - Cherry\n",
      "Hello World!\n"
     ]
    }
   ],
   "source": [
    "print(\"Apple\", \"Banana\", \"Cherry\", sep=\" - \")  # Apple - Banana - Cherry\n",
    "print(\"Hello\", end=\" \")\n",
    "print(\"World!\")  # Output: Hello World!"
   ]
  },
  {
   "cell_type": "markdown",
   "metadata": {},
   "source": [
    "#### Formatting Output\n",
    "🔹 String Concatenation"
   ]
  },
  {
   "cell_type": "code",
   "execution_count": 15,
   "metadata": {},
   "outputs": [
    {
     "name": "stdout",
     "output_type": "stream",
     "text": [
      "My name is Bob and I am 30 years old.\n"
     ]
    }
   ],
   "source": [
    "name = \"Bob\"\n",
    "age = 30\n",
    "print(\"My name is \" + name + \" and I am \" + str(age) + \" years old.\")"
   ]
  },
  {
   "cell_type": "markdown",
   "metadata": {},
   "source": [
    "#### 🔹 Using f-strings (Recommended)\n",
    "Introduced in Python 3.6, f-strings provide a clean and efficient way to format output."
   ]
  },
  {
   "cell_type": "code",
   "execution_count": 16,
   "metadata": {},
   "outputs": [
    {
     "name": "stdout",
     "output_type": "stream",
     "text": [
      "My name is Alice and I am 25 years old.\n"
     ]
    }
   ],
   "source": [
    "name = \"Alice\"\n",
    "age = 25\n",
    "print(f\"My name is {name} and I am {age} years old.\")  "
   ]
  },
  {
   "cell_type": "markdown",
   "metadata": {},
   "source": [
    "##### 🔹 Using `.format()`\n",
    "An alternative to f-strings:\n"
   ]
  },
  {
   "cell_type": "code",
   "execution_count": 17,
   "metadata": {},
   "outputs": [
    {
     "name": "stdout",
     "output_type": "stream",
     "text": [
      "My name is Alice and I am 25 years old.\n"
     ]
    }
   ],
   "source": [
    "print(\"My name is {} and I am {} years old.\".format(name, age))\n"
   ]
  },
  {
   "cell_type": "markdown",
   "metadata": {},
   "source": [
    "##### 🔹 Formatting Numbers\n",
    "Control decimal places using f-strings:"
   ]
  },
  {
   "cell_type": "code",
   "execution_count": 18,
   "metadata": {},
   "outputs": [
    {
     "name": "stdout",
     "output_type": "stream",
     "text": [
      "Pi to 2 decimal places: 3.14\n"
     ]
    }
   ],
   "source": [
    "pi = 3.1415926535\n",
    "print(f\"Pi to 2 decimal places: {pi:.2f}\")  # Pi to 2 decimal places: 3.14"
   ]
  },
  {
   "cell_type": "markdown",
   "metadata": {},
   "source": [
    "##### Taking User Input with `input()`\n",
    "The `input()` function always returns a string.\n",
    "Convert it using `int()`, `float()`, etc., when necessary.\n"
   ]
  },
  {
   "cell_type": "code",
   "execution_count": 23,
   "metadata": {},
   "outputs": [
    {
     "name": "stdout",
     "output_type": "stream",
     "text": [
      "Hello, anuj!\n"
     ]
    }
   ],
   "source": [
    "name = input(\"Enter your name: \")\n",
    "print(\"Hello, \" + name + \"!\")"
   ]
  },
  {
   "cell_type": "code",
   "execution_count": 22,
   "metadata": {},
   "outputs": [
    {
     "name": "stdout",
     "output_type": "stream",
     "text": [
      "24\n",
      "173.0\n"
     ]
    }
   ],
   "source": [
    "\n",
    "#📝 Converting Input to Other Data Types\n",
    "age = int(input(\"Enter your age: \"))  # Converts input to an integer\n",
    "height = float(input(\"Enter your height in meters: \"))  # Converts to float\n",
    "\n",
    "print(age)\n",
    "print(height)\n"
   ]
  },
  {
   "cell_type": "markdown",
   "metadata": {},
   "source": [
    "#### 📝 Multi-Value Input\n",
    "Users can enter multiple values separated by spaces."
   ]
  },
  {
   "cell_type": "code",
   "execution_count": 20,
   "metadata": {},
   "outputs": [
    {
     "name": "stdout",
     "output_type": "stream",
     "text": [
      "You entered 5 and 4\n"
     ]
    }
   ],
   "source": [
    "x, y = input(\"Enter two numbers separated by space: \").split()\n",
    "print(f\"You entered {x} and {y}\")\n"
   ]
  },
  {
   "cell_type": "code",
   "execution_count": 19,
   "metadata": {},
   "outputs": [
    {
     "name": "stdout",
     "output_type": "stream",
     "text": [
      "Sum: 8\n"
     ]
    }
   ],
   "source": [
    "#📌 Converting Inputs to Integers\n",
    "a, b = map(int, input(\"Enter two numbers: \").split())\n",
    "print(f\"Sum: {a + b}\")\n"
   ]
  },
  {
   "cell_type": "markdown",
   "metadata": {},
   "source": [
    "\n",
    "Special Characters in Output\n",
    "Python supports escape characters for formatting.\n",
    "\n",
    "| Escape Character | Description | Example |\n",
    "| --- | --- | --- |\n",
    "|\\n | New Line | print(\"Hello\\nWorld\")|\n",
    "|\\t\t| Tab Space | print(\"Hello\\tWorld\")|\n",
    "|\\'\t| Single Quote | print('I\\'m happy')|\n",
    "|\\\"\t| Double Quote | print(\"She said \\\"Hi\\\"\")|\n",
    "|\\\\ | Backslash | print(\"C:\\\\Users\\\\Name\")|\n"
   ]
  },
  {
   "cell_type": "code",
   "execution_count": null,
   "metadata": {},
   "outputs": [],
   "source": []
  }
 ],
 "metadata": {
  "kernelspec": {
   "display_name": "Python 3",
   "language": "python",
   "name": "python3"
  },
  "language_info": {
   "codemirror_mode": {
    "name": "ipython",
    "version": 3
   },
   "file_extension": ".py",
   "mimetype": "text/x-python",
   "name": "python",
   "nbconvert_exporter": "python",
   "pygments_lexer": "ipython3",
   "version": "3.12.5"
  }
 },
 "nbformat": 4,
 "nbformat_minor": 2
}
