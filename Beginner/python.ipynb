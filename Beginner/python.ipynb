{
 "cells": [
  {
   "cell_type": "markdown",
   "metadata": {},
   "source": [
    "# Python Basic \n",
    "#### What is python?\n",
    "##### Python is a popular programming language. It was created by Guido van Rossum\n",
    "#### it is used for : <br>  * web development (server-side)<br>  * software development<br>  * mathematics<br>  * system scripting"
   ]
  },
  {
   "cell_type": "markdown",
   "metadata": {},
   "source": [
    "#### Basic Syntax"
   ]
  },
  {
   "cell_type": "code",
   "execution_count": 8,
   "metadata": {},
   "outputs": [
    {
     "name": "stdout",
     "output_type": "stream",
     "text": [
      "Hello, world!\n"
     ]
    }
   ],
   "source": [
    "print(\"Hello, world!\")"
   ]
  },
  {
   "cell_type": "markdown",
   "metadata": {},
   "source": [
    "#### Note\n",
    "python uses new lines to compleate a command not `(;)` semicolons or parentheses<br>Python relies on indentation. <br> python use whitespace, to define scope;such as the scope of loops, functio and classes.\n"
   ]
  },
  {
   "cell_type": "code",
   "execution_count": 9,
   "metadata": {},
   "outputs": [
    {
     "name": "stdout",
     "output_type": "stream",
     "text": [
      "3.12.5 (tags/v3.12.5:ff3bc82, Aug  6 2024, 20:45:27) [MSC v.1940 64 bit (AMD64)]\n"
     ]
    }
   ],
   "source": [
    "# Pyton version\n",
    "\n",
    "import sys\n",
    "\n",
    "print(sys.version)\n"
   ]
  },
  {
   "cell_type": "markdown",
   "metadata": {},
   "source": [
    "### ✅ 1. Variables in Python\n",
    "Variables are used to store data. In Python, you don’t need to declare a data type explicitly—Python infers it automatically."
   ]
  },
  {
   "cell_type": "code",
   "execution_count": 10,
   "metadata": {},
   "outputs": [
    {
     "name": "stdout",
     "output_type": "stream",
     "text": [
      "<class 'str'>\n",
      "<class 'int'>\n",
      "<class 'float'>\n",
      "<class 'bool'>\n"
     ]
    }
   ],
   "source": [
    "#syntax:\n",
    "\n",
    "name = \"Alice\"      # string\n",
    "age = 25            # Integer\n",
    "price = 99.60       # Float\n",
    "is_active = True    # Boolean\n",
    "\n",
    "# type()  Use to find the type of variable\n",
    "print(type(name)) \n",
    "print(type(age))\n",
    "print(type(price))\n",
    "print(type(is_active))"
   ]
  },
  {
   "cell_type": "markdown",
   "metadata": {},
   "source": [
    "#### Rules for Variable Names:\n",
    "* Must start with a letter or underscore `(_)`\n",
    "* Cannot start with a number\n",
    "* Case-sensitive (`Age` and `age` are different)\n",
    "* Use descriptive names (`user_name`, not `x`)"
   ]
  },
  {
   "cell_type": "markdown",
   "metadata": {},
   "source": [
    "✅ 2. Python Data Types\n",
    "Python has several built-in data types:\n",
    "\n",
    "| Data Type | Example | Description |\n",
    "| --- | --- | --- |\n",
    "| `int` | age = 30 | Whole numbers | \n",
    "| `float` | price = 19.99 | Decimal numbers | \n",
    "| `str` | name = \"Alice\" | Text (in quotes) | \n",
    "| `bool` | is_active = True | Boolean values: True or False | \n",
    "| `list` | fruits = [\"apple\", \"banana\"] | Ordered, mutable collection | \n",
    "| `tuple` | coordinates = (10, 20) | Ordered, immutable collection | \n",
    "| `dict` | person = {\"name\": \"Bob\", \"age\": 30} | Key-value pairs (unordered) | \n",
    "| `set` | unique_numbers = {1, 2, 3} | Unordered, unique values collection | \n",
    "\n",
    "\n",
    "list , tuple , set and dict we will discuss in futhur lectures\n",
    "\n",
    "### Note\n",
    "String variables can be declared either by using single or double quotes"
   ]
  },
  {
   "cell_type": "markdown",
   "metadata": {},
   "source": [
    "### Write a program to assign different data types to variables and print their types."
   ]
  },
  {
   "cell_type": "code",
   "execution_count": 11,
   "metadata": {},
   "outputs": [
    {
     "name": "stdout",
     "output_type": "stream",
     "text": [
      "Alice\n",
      "25\n",
      "99.6\n",
      "True\n",
      "[1, 2, 3, 4, 5, 7]\n",
      "(1, 3, 5, 7, 9)\n",
      "{'name': 'Mango', 'price': 50}\n",
      "{1, 2, 3, 4, 5}\n"
     ]
    }
   ],
   "source": [
    "name = \"Alice\"      # string\n",
    "age = 25            # Integer\n",
    "price = 99.60       # Float\n",
    "is_active = True    # Boolean\n",
    "nums = [1,2,3,4,5,7]# list\n",
    "odd = (1,3,5,7,9)   # tuple\n",
    "fruits = {\"name\":\"Mango\",\"price\":50}\n",
    "sets = {1,2,3,4,5}  # sets\n",
    "\n",
    "print(name,age,price,is_active,nums,odd,fruits,sets,sep=\"\\n\")"
   ]
  },
  {
   "cell_type": "markdown",
   "metadata": {},
   "source": [
    "### Python commenting\n",
    "Python has commenting capability for the purpose fo in-code document.<br>\n",
    "Comment start with a `#`, and Python will render the rest of the line as a comment"
   ]
  },
  {
   "cell_type": "code",
   "execution_count": 12,
   "metadata": {},
   "outputs": [
    {
     "name": "stdout",
     "output_type": "stream",
     "text": [
      "hello world!\n"
     ]
    }
   ],
   "source": [
    "# This is a comment\n",
    "print(\"hello world!\")"
   ]
  },
  {
   "cell_type": "markdown",
   "metadata": {},
   "source": [
    "Comment can be used to explain python code. <br>comment can be used to make the code more readable.<br> comments can be used to prevent execution when testing code.\n",
    "### Types of comments\n",
    "### Multiline Comments\n",
    "Pyhton does not really have a syntex for multiline comments.<br>To add a multiline comment you could insert a `#` for each line."
   ]
  },
  {
   "cell_type": "code",
   "execution_count": 13,
   "metadata": {},
   "outputs": [
    {
     "name": "stdout",
     "output_type": "stream",
     "text": [
      "Hello, World!\n"
     ]
    }
   ],
   "source": [
    "#This is a comment\n",
    "#written in\n",
    "#more than just one line\n",
    "print(\"Hello, World!\")"
   ]
  },
  {
   "cell_type": "markdown",
   "metadata": {},
   "source": [
    "or, not quite as intended, you can use multiline string.<br>\n",
    "Since Python will ignore string literals that are not assigned to a variable,<br>you can add a multiline string `(\"\"\"\"\"\")` triple quotes in your code, <br>and place comment string inside it."
   ]
  },
  {
   "cell_type": "code",
   "execution_count": 14,
   "metadata": {},
   "outputs": [
    {
     "name": "stdout",
     "output_type": "stream",
     "text": [
      "Hello, World!\n"
     ]
    }
   ],
   "source": [
    "\n",
    "\"\"\"\n",
    "This is a comment\n",
    "written in\n",
    "more than just one line\n",
    "\"\"\"\n",
    "print(\"Hello, World!\")"
   ]
  },
  {
   "cell_type": "markdown",
   "metadata": {},
   "source": [
    "## ✅ 3. Type Conversion\n",
    "#### Convert between data types using these functions:\n",
    "\n",
    "| Function | Description |\n",
    "| --- | --- |\n",
    "| `int()` | Convert to an integer |\n",
    "| `float()`\t| Convert to a float|\n",
    "| `str()`\t| Convert to a string|\n",
    "| `bool()`\t| Convert to a boolean (True/False)|\n",
    "| `list()`, `tuple()`\t| Convert to list/tuple|"
   ]
  },
  {
   "cell_type": "markdown",
   "metadata": {},
   "source": [
    "#### Type Casting\n",
    "If you want to specify the data type of a variable, this can be done with casting.\n",
    "it is nothing but it help to convert on data type to another data type "
   ]
  },
  {
   "cell_type": "code",
   "execution_count": 15,
   "metadata": {},
   "outputs": [
    {
     "name": "stdout",
     "output_type": "stream",
     "text": [
      "String converting to int  <class 'int'>\n",
      "string converting to float  <class 'float'>\n",
      "integer converting to string <class 'str'>\n",
      "False\n",
      "True\n"
     ]
    }
   ],
   "source": [
    "# Example\n",
    "# Converting between types\n",
    "num = int(\"10\")       # 10 (string to integer)\n",
    "decimal = float(\"5.5\") # 5.5 (string to float)\n",
    "text = str(100)       # '100' (integer to string)\n",
    "print(\"String converting to int \",type(num))\n",
    "print(\"string converting to float \",type(decimal))\n",
    "print(\"integer converting to string\",type(text))\n",
    "\n",
    "# Boolean conversions\n",
    "print(bool(0))       # False (0 is False)\n",
    "print(bool(1))       # True (Non-zero is True)\n"
   ]
  },
  {
   "cell_type": "markdown",
   "metadata": {},
   "source": [
    "#### Get the Type\n",
    "you can get the data type of a variable with the `type()` function."
   ]
  },
  {
   "cell_type": "code",
   "execution_count": 16,
   "metadata": {},
   "outputs": [
    {
     "name": "stdout",
     "output_type": "stream",
     "text": [
      "<class 'int'>\n",
      "<class 'str'>\n"
     ]
    }
   ],
   "source": [
    "x = 10\n",
    "y = \"Python\"\n",
    "\n",
    "print(type(x))\n",
    "print(type(y))"
   ]
  },
  {
   "cell_type": "markdown",
   "metadata": {},
   "source": [
    "### ✅ 4. Input and Output\n",
    "##### Understanding `print()` for Output\n",
    "The print() function is used to display information on the screen. It supports multiple arguments, formatting, and special characters."
   ]
  },
  {
   "cell_type": "code",
   "execution_count": 17,
   "metadata": {},
   "outputs": [
    {
     "name": "stdout",
     "output_type": "stream",
     "text": [
      "Pyton is fun!\n"
     ]
    }
   ],
   "source": [
    "# basic usage to print statements and values to the user\n",
    "print(\"Pyton is fun!\")"
   ]
  },
  {
   "cell_type": "markdown",
   "metadata": {},
   "source": [
    "📝 Printing Multiple Items <br>Use commas `(,)` to print multiple values with spaces between them."
   ]
  },
  {
   "cell_type": "code",
   "execution_count": 18,
   "metadata": {},
   "outputs": [
    {
     "name": "stdout",
     "output_type": "stream",
     "text": [
      "Name: Alice Age: 25\n"
     ]
    }
   ],
   "source": [
    "name = \"Alice\"\n",
    "age = 25\n",
    "print(\"Name:\", name, \"Age:\", age)  # Output: Name: Alice Age: 25"
   ]
  },
  {
   "cell_type": "markdown",
   "metadata": {},
   "source": [
    "##### Using the `sep` and `end` Parameters\n",
    "* `sep` controls how values are separated.\n",
    "* `end` controls how the output ends."
   ]
  },
  {
   "cell_type": "code",
   "execution_count": 19,
   "metadata": {},
   "outputs": [
    {
     "name": "stdout",
     "output_type": "stream",
     "text": [
      "Apple - Banana - Cherry\n",
      "Hello World!\n"
     ]
    }
   ],
   "source": [
    "print(\"Apple\", \"Banana\", \"Cherry\", sep=\" - \")  # Apple - Banana - Cherry\n",
    "print(\"Hello\", end=\" \")\n",
    "print(\"World!\")  # Output: Hello World!"
   ]
  },
  {
   "cell_type": "markdown",
   "metadata": {},
   "source": [
    "#### Formatting Output\n",
    "🔹 String Concatenation"
   ]
  },
  {
   "cell_type": "code",
   "execution_count": 20,
   "metadata": {},
   "outputs": [
    {
     "name": "stdout",
     "output_type": "stream",
     "text": [
      "My name is Bob and I am 30 years old.\n"
     ]
    }
   ],
   "source": [
    "name = \"Bob\"\n",
    "age = 30\n",
    "print(\"My name is \" + name + \" and I am \" + str(age) + \" years old.\")"
   ]
  },
  {
   "cell_type": "markdown",
   "metadata": {},
   "source": [
    "#### 🔹 Using `f-strings` (Recommended)\n",
    "Introduced in Python 3.6, f-strings provide a clean and efficient way to format output."
   ]
  },
  {
   "cell_type": "code",
   "execution_count": 21,
   "metadata": {},
   "outputs": [
    {
     "name": "stdout",
     "output_type": "stream",
     "text": [
      "My name is Alice and I am 25 years old.\n"
     ]
    }
   ],
   "source": [
    "name = \"Alice\"\n",
    "age = 25\n",
    "print(f\"My name is {name} and I am {age} years old.\")  "
   ]
  },
  {
   "cell_type": "markdown",
   "metadata": {},
   "source": [
    "##### 🔹 Using `.format()`\n",
    "An alternative to f-strings:\n"
   ]
  },
  {
   "cell_type": "code",
   "execution_count": 22,
   "metadata": {},
   "outputs": [
    {
     "name": "stdout",
     "output_type": "stream",
     "text": [
      "My name is Alice and I am 25 years old.\n"
     ]
    }
   ],
   "source": [
    "print(\"My name is {} and I am {} years old.\".format(name, age))\n"
   ]
  },
  {
   "cell_type": "markdown",
   "metadata": {},
   "source": [
    "##### 🔹 Formatting Numbers\n",
    "Control decimal places using f-strings:"
   ]
  },
  {
   "cell_type": "code",
   "execution_count": 23,
   "metadata": {},
   "outputs": [
    {
     "name": "stdout",
     "output_type": "stream",
     "text": [
      "Pi to 2 decimal places: 3.14\n"
     ]
    }
   ],
   "source": [
    "pi = 3.1415926535\n",
    "print(f\"Pi to 2 decimal places: {pi:.2f}\")  # Pi to 2 decimal places: 3.14"
   ]
  },
  {
   "cell_type": "markdown",
   "metadata": {},
   "source": [
    "##### Taking User Input with `input()`\n",
    "The `input()` function always returns a string.\n",
    "Convert it using `int()`, `float()`, etc., when necessary.\n"
   ]
  },
  {
   "cell_type": "code",
   "execution_count": 24,
   "metadata": {},
   "outputs": [
    {
     "name": "stdout",
     "output_type": "stream",
     "text": [
      "Hello, ankit!\n"
     ]
    }
   ],
   "source": [
    "name = input(\"Enter your name: \")\n",
    "print(\"Hello, \" + name + \"!\")"
   ]
  },
  {
   "cell_type": "code",
   "execution_count": 25,
   "metadata": {},
   "outputs": [
    {
     "name": "stdout",
     "output_type": "stream",
     "text": [
      "24\n",
      "173.0\n"
     ]
    }
   ],
   "source": [
    "\n",
    "#📝 Converting Input to Other Data Types\n",
    "age = int(input(\"Enter your age: \"))  # Converts input to an integer\n",
    "height = float(input(\"Enter your height in meters: \"))  # Converts to float\n",
    "\n",
    "print(age)\n",
    "print(height)\n"
   ]
  },
  {
   "cell_type": "markdown",
   "metadata": {},
   "source": [
    "#### 📝 Multi-Value Input\n",
    "Users can enter multiple values separated by spaces."
   ]
  },
  {
   "cell_type": "code",
   "execution_count": 26,
   "metadata": {},
   "outputs": [
    {
     "name": "stdout",
     "output_type": "stream",
     "text": [
      "You entered 5 and 6\n"
     ]
    }
   ],
   "source": [
    "x, y = input(\"Enter two numbers separated by space: \").split()\n",
    "print(f\"You entered {x} and {y}\")\n"
   ]
  },
  {
   "cell_type": "code",
   "execution_count": 27,
   "metadata": {},
   "outputs": [
    {
     "name": "stdout",
     "output_type": "stream",
     "text": [
      "Sum: 13\n"
     ]
    }
   ],
   "source": [
    "#📌 Converting Inputs to Integers\n",
    "a, b = map(int, input(\"Enter two numbers: \").split())\n",
    "print(f\"Sum: {a + b}\")\n"
   ]
  },
  {
   "cell_type": "markdown",
   "metadata": {},
   "source": [
    "\n",
    "Special Characters in Output\n",
    "Python supports escape characters for formatting.\n",
    "\n",
    "| Escape Character | Description | Example |\n",
    "| --- | --- | --- |\n",
    "|`\\n` | New Line | `print(\"Hello\\nWorld\")`|\n",
    "|`\\t`\t| Tab Space | `print(\"Hello\\tWorld\")`|\n",
    "|`\\'`\t| Single Quote | `print('I\\'m happy')`|\n",
    "|`\\\"`\t| Double Quote | `print(\"She said \\\"Hi\\\"\")`|\n",
    "|`\\\\` | Backslash | `print(\"C:\\\\Users\\\\Name\")`|\n"
   ]
  },
  {
   "cell_type": "markdown",
   "metadata": {},
   "source": [
    "# Operators in Python\n",
    "Python provides several types of operators that allow you to perform various operations on variables and values. Here’s a breakdown of these operators with examples:\n",
    "\n",
    "### 1️⃣ Arithmetic Operators\n",
    "Used to perform mathematical operations.\n",
    "\n",
    "| Operator | Description | Example |\n",
    "| --- | --- | --- |\n",
    "| `+`| Addition | `5 + 3 → 8` |\n",
    "| `-` | Subtraction | `10 - 6 → 4` |\n",
    "|`*` | Multiplication |\t`4 * 5 → 20` |\n",
    "| `/` | Division (returns float) |\t`9 / 2 → 4.5` |\n",
    "| `//` | Floor Division (integer result) |\t`9 // 2 → 4` |\n",
    "| `%` | Modulus (remainder) | `9 % 2 → 1` |\n",
    "| `**` | Exponentiation (power) | `2 ** 3 → 8` |"
   ]
  },
  {
   "cell_type": "code",
   "execution_count": 28,
   "metadata": {},
   "outputs": [
    {
     "name": "stdout",
     "output_type": "stream",
     "text": [
      "13\n",
      "7\n",
      "30\n",
      "3.3333333333333335\n",
      "3\n",
      "1\n",
      "1000\n"
     ]
    }
   ],
   "source": [
    "#Example:\n",
    "a = 10\n",
    "b = 3\n",
    "print(a + b)   # 13\n",
    "print(a - b)   # 7\n",
    "print(a * b)   # 30\n",
    "print(a / b)   # 3.333...\n",
    "print(a // b)  # 3\n",
    "print(a % b)   # 1\n",
    "print(a ** b)  # 1000 (10^3)"
   ]
  },
  {
   "cell_type": "markdown",
   "metadata": {},
   "source": [
    "### 2️⃣ Assignment Operators\n",
    "Used to assign values to variables.\n",
    "\n",
    "| Operator | Example | Equivalent to |\n",
    "| --- | --- | --- |\n",
    "|`=`\t|`a = 5`\t|`a = 5`|\n",
    "|`+=`|\t`a += 3`|\t`a = a + 3`|\n",
    "|`-=`\t|`a -= 2`\t|`a = a - 2`|\n",
    "|`*=`\t|`a *= 4`\t|`a = a * 4`|\n",
    "|`/=`\t|`a /= 2`\t|`a = a / 2`|\n",
    "|`//=`|\t`a //= 3`\t|`a = a // 3`|\n",
    "|`%=`\t|`a %= 3`\t|`a = a % 3`|\n",
    "|`**=`|\t`a **= 2`|\t`a = a ** 2`|"
   ]
  },
  {
   "cell_type": "code",
   "execution_count": 29,
   "metadata": {},
   "outputs": [
    {
     "name": "stdout",
     "output_type": "stream",
     "text": [
      "30\n"
     ]
    }
   ],
   "source": [
    "#Example:\n",
    "\n",
    "a = 10\n",
    "a += 5   # a = a + 5 → 15\n",
    "a *= 2   # a = a * 2 → 30\n",
    "print(a) # Output: 30"
   ]
  },
  {
   "cell_type": "markdown",
   "metadata": {},
   "source": [
    "### 3️⃣ Comparison Operators\n",
    "Used to compare two values and return True or False.\n",
    "\n",
    "|Operator|\tDescription|\tExample|\n",
    "| -- | -- | -- |\n",
    "|`==`\t|Equal to|\t`5 == 5 → True`|\n",
    "|`!=`\t|Not equal to|\t`5 != 3 → True`|\n",
    "|`<`\t|Less than\t|`4 < 8 → True`|\n",
    "|`>`\t|Greater than\t|`7 > 2 → True`|\n",
    "|`<=`\t|Less than or equal to\t|`5 <= 5 → True`|\n",
    "|`>=`\t|Greater than or equal to|\t`6 >= 3 → True`|\n"
   ]
  },
  {
   "cell_type": "code",
   "execution_count": 30,
   "metadata": {},
   "outputs": [
    {
     "name": "stdout",
     "output_type": "stream",
     "text": [
      "True\n",
      "False\n",
      "True\n"
     ]
    }
   ],
   "source": [
    "#Example:\n",
    "x = 10\n",
    "y = 5\n",
    "print(x > y)   # True\n",
    "print(x == y)  # False\n",
    "print(x != y)  # True"
   ]
  },
  {
   "cell_type": "markdown",
   "metadata": {},
   "source": [
    "### 4️⃣ Logical Operators\n",
    "Used to combine multiple conditions.\n",
    "\n",
    "|Operator|\tDescription\t|Example|\n",
    "| --- | --- | --- |\n",
    "|`and`|\tReturns `True` if both conditions are `True`|\t`(5 > 3 and 8 > 6) → True`|\n",
    "|`or`|Returns True if at least one condition is `True`\t|`(5 > 3 or 8 < 6) → True`|\n",
    "|`not`|\tReturns the opposite of the condition\t|`not(5 > 3) → False`|\n"
   ]
  },
  {
   "cell_type": "code",
   "execution_count": 31,
   "metadata": {},
   "outputs": [
    {
     "name": "stdout",
     "output_type": "stream",
     "text": [
      "False\n",
      "True\n",
      "False\n"
     ]
    }
   ],
   "source": [
    "#Example:\n",
    "a = True\n",
    "b = False\n",
    "print(a and b) # False\n",
    "print(a or b)  # True\n",
    "print(not a)   # False\n"
   ]
  },
  {
   "cell_type": "markdown",
   "metadata": {},
   "source": [
    "### 5️⃣ Identity Operators\n",
    "Used to compare memory locations of two objects.\n",
    "\n",
    "|Operator|\tDescription|\tExample|\n",
    "| -- | -- | -- |\n",
    "|`is`\t|Returns `True` if both variables refer to the same object|\t`x is y`|\n",
    "|`is not`|\tReturns `True` if they refer to different objects|\t`x is not y`|\n"
   ]
  },
  {
   "cell_type": "code",
   "execution_count": 32,
   "metadata": {},
   "outputs": [
    {
     "name": "stdout",
     "output_type": "stream",
     "text": [
      "True\n",
      "False\n",
      "True\n"
     ]
    }
   ],
   "source": [
    "\n",
    "#Example:\n",
    "x = [1, 2, 3]\n",
    "y = x\n",
    "z = [1, 2, 3]\n",
    "\n",
    "print(x is y)   # True (same object in memory)\n",
    "print(x is z)   # False (different objects)\n",
    "print(x == z)   # True (same values)\n"
   ]
  },
  {
   "cell_type": "markdown",
   "metadata": {},
   "source": [
    "### 6️⃣ Membership Operators\n",
    "Used to check if a value exists in a sequence (`list`, `tuple`, `string`, etc.).\n",
    "\n",
    "|Operator|\tDescription|\tExample|\n",
    "| --- | --- | --- |\n",
    "|`in`|\tReturns `True` if a value is found in a sequence|\t`\"a\" in \"apple\" → True`|\n",
    "|`not in`\t|Returns `True` if a value is not found|\t`\"z\" not in \"apple\" → True`|\n"
   ]
  },
  {
   "cell_type": "code",
   "execution_count": 33,
   "metadata": {},
   "outputs": [
    {
     "name": "stdout",
     "output_type": "stream",
     "text": [
      "True\n",
      "True\n"
     ]
    }
   ],
   "source": [
    "#Example:\n",
    "fruits = [\"apple\", \"banana\", \"cherry\"]\n",
    "print(\"apple\" in fruits)     # True\n",
    "print(\"grape\" not in fruits) # True\n"
   ]
  },
  {
   "cell_type": "markdown",
   "metadata": {},
   "source": [
    "### 7️⃣ Bitwise Operators\n",
    "Used to perform bitwise operations on binary numbers.\n",
    "\n",
    "|Operator|\tDescription\t|Example|\n",
    "| --- | --- | -- |\n",
    "|`or`| Bitwise `OR`| `5 or 3 → 7 (0101 or 0011 = 0111)`|\n",
    "|`&`|\tBitwise `AND`|\t`5 & 3 → 1 (0101 & 0011 = 0001)`|\n",
    "|`^`|\tBitwise `XOR`\t|`5 ^ 3 → 6 (0101 ^ 0011 = 0110)`|\n",
    "|`~`|\tBitwise `NOT`\t|`~5 → -6 (inverts bits)`|\n",
    "|`<<`\t|`Left Shift`|\t`5 << 1 → 10 (0101 → 1010)`|\n",
    "|`>>`|\t`Right Shift`\t|`5 >> 1 → 2 (0101 → 0010)`|\n",
    "\n",
    "\n",
    "#### Bitwise AND Operator\n",
    "Python Bitwise `AND` (`&`) operator takes two equal-length bit patterns as parameters. The two-bit integers are compared. If the bits in the compared positions of the bit patterns are `1`, then the resulting bit is `1`. If not, it is `0`.\n",
    "\n",
    "#### truth table to understand And operator\n",
    "| A | B | AND |\n",
    "| --- | --- | --- |\n",
    "|0|0|0|\n",
    "|0|1|0|\n",
    "|1|0|0|\n",
    "|1|1|1|\n"
   ]
  },
  {
   "cell_type": "code",
   "execution_count": 3,
   "metadata": {},
   "outputs": [
    {
     "name": "stdout",
     "output_type": "stream",
     "text": [
      "a & b = 0\n"
     ]
    }
   ],
   "source": [
    "#example of And (&)\n",
    "a = 10 # (1010)\n",
    "b = 4  # (0100)\n",
    "# print bitwise AND operation\n",
    "print(\"a & b =\", a & b)"
   ]
  },
  {
   "cell_type": "markdown",
   "metadata": {},
   "source": [
    "\n",
    "#### Bitwise OR Operator\n",
    "The Python Bitwise `OR` (`|`) Operator takes two equivalent length bit designs as boundaries; if the two bits in the looked-at position are `0`, the next bit is `zero`. If not, it is `1`.\n",
    "\n",
    "#### Truth table to understand OR operator\n",
    "| A | B | OR |\n",
    "| --- | --- | --- |\n",
    "|0|0|0|\n",
    "|0|1|1|\n",
    "|1|0|1|\n",
    "|1|1|1|\n"
   ]
  },
  {
   "cell_type": "code",
   "execution_count": 4,
   "metadata": {},
   "outputs": [
    {
     "name": "stdout",
     "output_type": "stream",
     "text": [
      "a | b = 14\n"
     ]
    }
   ],
   "source": [
    "#example of OR (|)\n",
    "a = 10 # (1010)\n",
    "b = 4  # (0100)\n",
    "# print bitwise OR operation\n",
    "print(\"a | b =\", a | b)"
   ]
  },
  {
   "cell_type": "markdown",
   "metadata": {},
   "source": [
    "\n",
    "#### Bitwise XOR Operator\n",
    "The Python Bitwise `XOR` (`^`) Operator also known as the `exclusive OR` operator, is used to perform the `XOR` operation on two operands. `XOR` stands for `“exclusive or”`, and it returns `true` if and only if exactly one of the operands is `true`. In the context of bitwise operations, it compares corresponding bits of two operands. If the bits are different, it returns `1`; otherwise, it returns `0`.\n",
    "\n",
    "#### Truth table to understand XOR operator\n",
    "| A | B | XOR |\n",
    "| --- | --- | --- |\n",
    "|0|0|0| \n",
    "|0|1|1| \n",
    "|1|0|1|\n",
    "|1|1|0|"
   ]
  },
  {
   "cell_type": "code",
   "execution_count": 6,
   "metadata": {},
   "outputs": [
    {
     "name": "stdout",
     "output_type": "stream",
     "text": [
      "a ^ b = 14\n"
     ]
    }
   ],
   "source": [
    "#example of XOR (^)\n",
    "a = 10 # (1010)\n",
    "b = 4  # (0100)\n",
    "# print bitwise XOR operation\n",
    "print(\"a ^ b =\", a ^ b)"
   ]
  },
  {
   "cell_type": "markdown",
   "metadata": {},
   "source": [
    "\n",
    "#### Bitwise NOT Operator\n",
    "The preceding three bitwise operators are binary operators, necessitating two operands to function. However, unlike the others, this operator operates with only one operand.\n",
    "\n",
    "Python `Bitwise Not` (`~`) Operator works with a single value and returns its `one’s complement`. This means it toggles all bits in the value, transforming `0` bits to `1` and `1` bits to `0`, resulting in the `one’s complement` of the binary number.\n",
    "\n",
    "#### Truth table to understand NOT operator\n",
    "| A | ~ NOT |\n",
    "| --- | --- |\n",
    "|0|1| \n",
    "|1|0| "
   ]
  },
  {
   "cell_type": "code",
   "execution_count": 11,
   "metadata": {},
   "outputs": [
    {
     "name": "stdout",
     "output_type": "stream",
     "text": [
      "~a = -11\n"
     ]
    }
   ],
   "source": [
    "#example of NOT (~)\n",
    "a = 10 # (1010)\n",
    "b = 4  # (0100)\n",
    "# print bitwise NOT operation\n",
    "print(\"~a =\", ~a )"
   ]
  },
  {
   "cell_type": "markdown",
   "metadata": {},
   "source": [
    "\n",
    "#### Bitwise Shift\n",
    "These operators are used to shift the bits of a number left or right thereby multiplying or dividing the number by two respectively. They can be used when we have to multiply or divide a number by two. \n"
   ]
  },
  {
   "cell_type": "markdown",
   "metadata": {},
   "source": [
    "\n",
    "* Bitwise Right Shift\n",
    "Shifts the bits of the number to the right and fills `0` on voids `left`( fills 1 in the case of a negative number) as a result. Similar effect as of dividing the number with some power of two.\n"
   ]
  },
  {
   "cell_type": "code",
   "execution_count": 14,
   "metadata": {},
   "outputs": [
    {
     "name": "stdout",
     "output_type": "stream",
     "text": [
      "a>>1 = 5\n",
      "b>>1 = -3\n"
     ]
    }
   ],
   "source": [
    "#example of Right shift (>>)\n",
    "a = 10 # (1010)\n",
    "b = -5\n",
    "# print bitwise Right shift operation\n",
    "print(\"a>>1 =\", a>>1 )\n",
    "print(\"b>>1 =\", b>>1 )"
   ]
  },
  {
   "cell_type": "markdown",
   "metadata": {},
   "source": [
    "\n",
    "* Bitwise Left Shift\n",
    "Shifts the bits of the number to the left and fills `0` on voids `right` as a result. Similar effect as of multiplying the number with some power of `two`.\n"
   ]
  },
  {
   "cell_type": "code",
   "execution_count": 1,
   "metadata": {},
   "outputs": [
    {
     "name": "stdout",
     "output_type": "stream",
     "text": [
      "a<<1 = 20\n",
      "b<<1 = -10\n"
     ]
    }
   ],
   "source": [
    "#example of Left shift (>>)\n",
    "a = 10 # (1010)\n",
    "b = -5\n",
    "# print bitwise Left shift operation\n",
    "print(\"a<<1 =\", a<<1 )\n",
    "print(\"b<<1 =\", b<<1 )"
   ]
  },
  {
   "cell_type": "markdown",
   "metadata": {},
   "source": [
    "## ✅ Control Flow in Python 🚀\n",
    "Control flow structures allow a program to make decisions and repeat tasks. \n",
    "The main concepts include `if-elif-else` conditions, `loops`, and loop control statements like `break`, `continue`, and `pass`.\n",
    "### Conditional Statements in Python\n",
    "Conditional statements in Python are used to execute certain blocks of code based on specific conditions. These statements help control the flow of a program, making it behave differently in different situations.\n",
    "\n",
    "#### If Conditional Statement in Python\n",
    "`If` statement is the simplest form of a `conditional statement`. It executes a block of code if the given condition is `true`."
   ]
  },
  {
   "cell_type": "code",
   "execution_count": 1,
   "metadata": {},
   "outputs": [
    {
     "name": "stdout",
     "output_type": "stream",
     "text": [
      "Eligible to vote.\n",
      "Eligible to Vote.\n"
     ]
    }
   ],
   "source": [
    "#Example\n",
    "age = 20\n",
    "\n",
    "if age >= 18:\n",
    "    print(\"Eligible to vote.\")\n",
    "\n",
    "\n",
    "#Short Hand if\n",
    "#Short-hand if statement allows us to write a single-line if statement.\n",
    "age =19\n",
    "if age>=18 : print(\"Eligible to Vote.\")"
   ]
  },
  {
   "cell_type": "markdown",
   "metadata": {},
   "source": [
    "#### If else Conditional Statements in Python\n",
    "`Else` allows us to specify a block of code that will execute if the condition(s) associated with an `if` or `elif` statement evaluates to `False`. `Else` block provides a way to handle all other cases that don't meet the specified conditions."
   ]
  },
  {
   "cell_type": "code",
   "execution_count": 5,
   "metadata": {},
   "outputs": [
    {
     "name": "stdout",
     "output_type": "stream",
     "text": [
      "Travel for free.\n",
      "Note Eligible for votr\n"
     ]
    }
   ],
   "source": [
    "#Example\n",
    "age = 10\n",
    "\n",
    "if age <= 12:\n",
    "    print(\"Travel for free.\")\n",
    "else:\n",
    "    print(\"Pay for ticket.\")\n",
    "\n",
    "\n",
    "#Short Hand if\n",
    "#Short-hand if statement allows us to write a single-line if statement.\n",
    "age =15\n",
    "print(\"Eligible for vote\") if age >= 18 else print(\"Note Eligible for votr\")\n"
   ]
  },
  {
   "cell_type": "markdown",
   "metadata": {},
   "source": [
    "### elif Statement\n",
    "`elif` statement in Python stands for `\"else if\"` It allows us to check multiple conditions , providing a way to execute different blocks of code based on which condition is `true`. Using `elif` statements makes our code more readable and efficient by eliminating the need for multiple nested `if` statements."
   ]
  },
  {
   "cell_type": "code",
   "execution_count": null,
   "metadata": {},
   "outputs": [
    {
     "name": "stdout",
     "output_type": "stream",
     "text": [
      "number -6 is -ve\n"
     ]
    }
   ],
   "source": [
    "#Example\n",
    "a = -6\n",
    "if a<0:\n",
    "    print(f\"number {a} is -ve\")\n",
    "elif a==0:\n",
    "    print(f\"{a} number is zero\")\n",
    "elif a > 0:\n",
    "    print(f\"number {a} is +ve\")"
   ]
  },
  {
   "cell_type": "markdown",
   "metadata": {},
   "source": [
    "### Nested if..else Conditional Statements in Python\n",
    "`Nested if..else` means an `if-else` statement inside another `if` statement. We can use nested `if` statements to check conditions within conditions."
   ]
  },
  {
   "cell_type": "code",
   "execution_count": 10,
   "metadata": {},
   "outputs": [
    {
     "name": "stdout",
     "output_type": "stream",
     "text": [
      "Positive Odd Number\n"
     ]
    }
   ],
   "source": [
    "#Example\n",
    "num = 5\n",
    "\n",
    "if num > 0:\n",
    "    if num % 2 == 0:\n",
    "        print(\"Positive Even Number\")\n",
    "    else:\n",
    "        print(\"Positive Odd Number\")\n",
    "else:\n",
    "    print(\"Negative Number\")\n"
   ]
  },
  {
   "cell_type": "markdown",
   "metadata": {},
   "source": [
    "## Match-Case Statement in Python\n",
    "`match-case` statement is Python's version of a `switch-case` found in other languages. It allows us to match a variable's value against a set of patterns."
   ]
  },
  {
   "cell_type": "code",
   "execution_count": 11,
   "metadata": {},
   "outputs": [
    {
     "name": "stdout",
     "output_type": "stream",
     "text": [
      "Two or Three\n"
     ]
    }
   ],
   "source": [
    "#Example\n",
    "number = 2\n",
    "\n",
    "match number:\n",
    "    case 1:\n",
    "        print(\"One\")\n",
    "    case 2 | 3:\n",
    "        print(\"Two or Three\")\n",
    "    case _:\n",
    "        print(\"Other number\")\n"
   ]
  }
 ],
 "metadata": {
  "kernelspec": {
   "display_name": "Python 3",
   "language": "python",
   "name": "python3"
  },
  "language_info": {
   "codemirror_mode": {
    "name": "ipython",
    "version": 3
   },
   "file_extension": ".py",
   "mimetype": "text/x-python",
   "name": "python",
   "nbconvert_exporter": "python",
   "pygments_lexer": "ipython3",
   "version": "3.12.1"
  }
 },
 "nbformat": 4,
 "nbformat_minor": 2
}
